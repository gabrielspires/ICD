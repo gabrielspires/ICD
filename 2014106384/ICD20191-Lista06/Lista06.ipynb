{
 "cells": [
  {
   "cell_type": "markdown",
   "metadata": {
    "deletable": false,
    "editable": false,
    "nbgrader": {
     "checksum": "a7b6b9b7e6227bb025b7aaae1c4af308",
     "grade": false,
     "grade_id": "cell-8deaea05420ef7ba",
     "locked": true,
     "schema_version": 1,
     "solution": false
    }
   },
   "source": [
    "# Lista 06 - Gradiente Descendente e Regressão Multivariada"
   ]
  },
  {
   "cell_type": "code",
   "execution_count": 1,
   "metadata": {
    "deletable": false,
    "editable": false,
    "nbgrader": {
     "checksum": "b2afb85693fba6a0aa8e640b42806ec1",
     "grade": false,
     "grade_id": "cell-58a929f85b9cd6e5",
     "locked": true,
     "schema_version": 1,
     "solution": false
    }
   },
   "outputs": [],
   "source": [
    "import matplotlib.pyplot as plt\n",
    "import numpy as np\n",
    "import pandas as pd\n",
    "\n",
    "from numpy.testing import *\n",
    "\n",
    "plt.ion()"
   ]
  },
  {
   "cell_type": "markdown",
   "metadata": {
    "deletable": false,
    "editable": false,
    "nbgrader": {
     "checksum": "9de875a4541b497be24f50b9be4fef52",
     "grade": false,
     "grade_id": "cell-1694d2965535bd5b",
     "locked": true,
     "schema_version": 1,
     "solution": false
    }
   },
   "source": [
    "Hoje vamos fazer um gradiente descendente para uma regressão linear com múltiplas variáveis.\n",
    "\n",
    "Para isso, utilizaremos a base de dados carros, ``hybrid.csv``. As colunas são definidas da seguinte forma:\n",
    "\n",
    "* veículo (vehicle): modelo do carro\n",
    "\n",
    "* ano (year): ano de fabricação\n",
    "\n",
    "* msrp: preço de varejo em dólar sugerido pelo fabricante em 2013.\n",
    "\n",
    "* aceleração (acceleration): taxa de aceleração em km por hora por segundo\n",
    "\n",
    "* mpg: economia de combustível em milhas por galão\n",
    "\n",
    "* classe (class): a classe do modelo.\n",
    "\n",
    "Nosso objetivo será estimar o valor de preço sugerido dos carros a partir dos demais atributos (exluindo o nome do veículo e a classe).\n",
    "Portanto, teremos a regressão definida pela fórmula:\n",
    "\n",
    "$$ Y = X\\Theta + \\epsilon $$\n",
    "\n",
    "Em que, Y corresponde à coluna ``msrp`` dos dados, e X corresponde às colunas ``year,acceleration,mpg``."
   ]
  },
  {
   "cell_type": "code",
   "execution_count": 2,
   "metadata": {
    "deletable": false,
    "editable": false,
    "nbgrader": {
     "checksum": "5e4f0921c9c9c6708359b7da781bcf2e",
     "grade": false,
     "grade_id": "cell-e75a900fc1119637",
     "locked": true,
     "schema_version": 1,
     "solution": false
    }
   },
   "outputs": [
    {
     "data": {
      "text/html": [
       "<div>\n",
       "<style scoped>\n",
       "    .dataframe tbody tr th:only-of-type {\n",
       "        vertical-align: middle;\n",
       "    }\n",
       "\n",
       "    .dataframe tbody tr th {\n",
       "        vertical-align: top;\n",
       "    }\n",
       "\n",
       "    .dataframe thead th {\n",
       "        text-align: right;\n",
       "    }\n",
       "</style>\n",
       "<table border=\"1\" class=\"dataframe\">\n",
       "  <thead>\n",
       "    <tr style=\"text-align: right;\">\n",
       "      <th></th>\n",
       "      <th>vehicle</th>\n",
       "      <th>year</th>\n",
       "      <th>msrp</th>\n",
       "      <th>acceleration</th>\n",
       "      <th>mpg</th>\n",
       "      <th>class</th>\n",
       "    </tr>\n",
       "  </thead>\n",
       "  <tbody>\n",
       "    <tr>\n",
       "      <th>0</th>\n",
       "      <td>Prius (1st Gen)</td>\n",
       "      <td>1997</td>\n",
       "      <td>24509.74</td>\n",
       "      <td>7.46</td>\n",
       "      <td>41.26</td>\n",
       "      <td>Compact</td>\n",
       "    </tr>\n",
       "    <tr>\n",
       "      <th>1</th>\n",
       "      <td>Tino</td>\n",
       "      <td>2000</td>\n",
       "      <td>35354.97</td>\n",
       "      <td>8.20</td>\n",
       "      <td>54.10</td>\n",
       "      <td>Compact</td>\n",
       "    </tr>\n",
       "    <tr>\n",
       "      <th>2</th>\n",
       "      <td>Prius (2nd Gen)</td>\n",
       "      <td>2000</td>\n",
       "      <td>26832.25</td>\n",
       "      <td>7.97</td>\n",
       "      <td>45.23</td>\n",
       "      <td>Compact</td>\n",
       "    </tr>\n",
       "    <tr>\n",
       "      <th>3</th>\n",
       "      <td>Insight</td>\n",
       "      <td>2000</td>\n",
       "      <td>18936.41</td>\n",
       "      <td>9.52</td>\n",
       "      <td>53.00</td>\n",
       "      <td>Two Seater</td>\n",
       "    </tr>\n",
       "    <tr>\n",
       "      <th>4</th>\n",
       "      <td>Civic (1st Gen)</td>\n",
       "      <td>2001</td>\n",
       "      <td>25833.38</td>\n",
       "      <td>7.04</td>\n",
       "      <td>47.04</td>\n",
       "      <td>Compact</td>\n",
       "    </tr>\n",
       "  </tbody>\n",
       "</table>\n",
       "</div>"
      ],
      "text/plain": [
       "           vehicle  year      msrp  acceleration    mpg       class\n",
       "0  Prius (1st Gen)  1997  24509.74          7.46  41.26     Compact\n",
       "1             Tino  2000  35354.97          8.20  54.10     Compact\n",
       "2  Prius (2nd Gen)  2000  26832.25          7.97  45.23     Compact\n",
       "3          Insight  2000  18936.41          9.52  53.00  Two Seater\n",
       "4  Civic (1st Gen)  2001  25833.38          7.04  47.04     Compact"
      ]
     },
     "execution_count": 2,
     "metadata": {},
     "output_type": "execute_result"
    }
   ],
   "source": [
    "df = pd.read_csv('./hybrid.csv')\n",
    "df.head()"
   ]
  },
  {
   "cell_type": "code",
   "execution_count": 3,
   "metadata": {
    "deletable": false,
    "editable": false,
    "nbgrader": {
     "checksum": "15db7142a689d363f93601e9e60bdb8c",
     "grade": false,
     "grade_id": "cell-3fd8504900d1ab3c",
     "locked": true,
     "schema_version": 1,
     "solution": false
    }
   },
   "outputs": [
    {
     "data": {
      "text/plain": [
       "<seaborn.axisgrid.PairGrid at 0x7fb058e69e80>"
      ]
     },
     "execution_count": 3,
     "metadata": {},
     "output_type": "execute_result"
    },
    {
     "data": {
      "image/png": "[encoded data removed]",
      "text/plain": [
       "<Figure size 720x720 with 20 Axes>"
      ]
     },
     "metadata": {},
     "output_type": "display_data"
    }
   ],
   "source": [
    "import seaborn as sns\n",
    "sns.pairplot(df, diag_kws={'edgecolor':'k'}, plot_kws={'alpha':0.5, 'edgecolor':'k'})"
   ]
  },
  {
   "cell_type": "markdown",
   "metadata": {
    "deletable": false,
    "editable": false,
    "nbgrader": {
     "checksum": "789d66cbb14a7c4e2ee0b87ebd02389e",
     "grade": false,
     "grade_id": "cell-3adf57d9e72b0726",
     "locked": true,
     "schema_version": 1,
     "solution": false
    }
   },
   "source": [
    "Selecionamos apenas as colunas que serão utilizadas.\n",
    "\n",
    "Normalizamos os dados para que o gradiente descendente rode sem problemas."
   ]
  },
  {
   "cell_type": "code",
   "execution_count": 4,
   "metadata": {
    "deletable": false,
    "editable": false,
    "nbgrader": {
     "checksum": "daf73e42acdf4cca4a73d3f98b9fa0f3",
     "grade": false,
     "grade_id": "cell-6c253ff43c749941",
     "locked": true,
     "schema_version": 1,
     "solution": false
    }
   },
   "outputs": [],
   "source": [
    "y = df['msrp']\n",
    "X = df[['year','acceleration','mpg']]\n",
    "\n",
    "X -= X.mean()\n",
    "X /= X.std(ddof=1)\n",
    "y -= y.mean()\n",
    "y /= y.std(ddof=1)\n",
    "\n",
    "X.insert(0, 'intercept', 1.0)\n",
    "\n",
    "X = X.values\n",
    "y = y.values"
   ]
  },
  {
   "cell_type": "code",
   "execution_count": null,
   "metadata": {
    "deletable": false,
    "editable": false,
    "nbgrader": {
     "checksum": "ad53ea7f5412aa02ea90d89bea19858f",
     "grade": true,
     "grade_id": "cell-b1829dbd066d5c0e",
     "locked": true,
     "points": 0,
     "schema_version": 1,
     "solution": false
    }
   },
   "outputs": [],
   "source": []
  },
  {
   "cell_type": "markdown",
   "metadata": {
    "deletable": false,
    "editable": false,
    "nbgrader": {
     "checksum": "04bb5e234150469df71bf199ed69d967",
     "grade": false,
     "grade_id": "cell-8f20f5d088a1a770",
     "locked": true,
     "schema_version": 1,
     "solution": false
    }
   },
   "source": [
    "__IMPORTANTE:__\n",
    "Não crie ou utilize qualquer variável ou função com nome iniciado por ``_teste_``."
   ]
  },
  {
   "cell_type": "markdown",
   "metadata": {
    "deletable": false,
    "editable": false,
    "nbgrader": {
     "checksum": "8eb2e1b1b4f2cfd91d70e7dcb7b0c4d3",
     "grade": false,
     "grade_id": "cell-5885727150c53c96",
     "locked": true,
     "schema_version": 1,
     "solution": false
    }
   },
   "source": [
    "A) Implemente a função de gradiente dos parâmetros da regressão, retornando um array com os valores dos gradientes para cada parâmetro theta."
   ]
  },
  {
   "cell_type": "code",
   "execution_count": 12,
   "metadata": {
    "deletable": false,
    "nbgrader": {
     "checksum": "ff5e3823c0399ba5187a49951d9aa5bb",
     "grade": false,
     "grade_id": "cell-676f67eaf7999e43",
     "locked": false,
     "schema_version": 1,
     "solution": true
    }
   },
   "outputs": [],
   "source": [
    "def gradients(theta, X, y):\n",
    "    # x : matriz nxm\n",
    "    # y : array nx1\n",
    "    # theta : array mx1\n",
    "    return -2 * ((y - X @ theta) * X.T).mean(axis=1)"
   ]
  },
  {
   "cell_type": "code",
   "execution_count": null,
   "metadata": {
    "deletable": false,
    "editable": false,
    "nbgrader": {
     "checksum": "8ec9016c50e2a75c931432481f440396",
     "grade": true,
     "grade_id": "cell-41876edb72109f72",
     "locked": true,
     "points": 1,
     "schema_version": 1,
     "solution": false
    }
   },
   "outputs": [],
   "source": []
  },
  {
   "cell_type": "markdown",
   "metadata": {
    "deletable": false,
    "editable": false,
    "nbgrader": {
     "checksum": "d9e2ad0309964385c9864b4eec22f7ab",
     "grade": false,
     "grade_id": "cell-b493768e8d28f574",
     "locked": true,
     "schema_version": 1,
     "solution": false
    }
   },
   "source": [
    "B) Implemente a função de gradiente descendente para os parâmetros da regressão linear. \n",
    "\n",
    "Retorne uma lista com o valor de alpha e os valores de beta para cada coluna, nessa ordem."
   ]
  },
  {
   "cell_type": "code",
   "execution_count": null,
   "metadata": {
    "deletable": false,
    "nbgrader": {
     "checksum": "0dc00e2d809c776fe47ee4409ca5c728",
     "grade": false,
     "grade_id": "cell-538afc99a00eae6f",
     "locked": false,
     "schema_version": 1,
     "solution": true
    }
   },
   "outputs": [],
   "source": [
    "def descent(theta0, X, y, learning_rate=0.005, tolerance=0.0000001):\n",
    "    pass\n",
    "#     theta = theta0\n",
    "#     old_err_sq = np.inf\n",
    "#     i = 0\n",
    "#     while True:\n",
    "#         # Computar as derivadas\n",
    "#         grad = gradients(theta, X, y)\n",
    "        \n",
    "#         # Atualizar\n",
    "#         theta_novo = theta - learning_rate * grad\n",
    "        \n",
    "#         # Parar quando o erro convergir\n",
    "#         err_sq = ((X.dot(theta) - y) ** 2).mean()\n",
    "#         if np.abs(old_err_sq - err_sq) <= tolerance:\n",
    "#             break\n",
    "        \n",
    "#         theta = theta_novo\n",
    "#         old_err_sq = err_sq\n",
    "#         i += 1\n",
    "#     return theta\n",
    "    \n",
    "#     alpha = param0[0]\n",
    "#     beta = param0[1]\n",
    "#     for _ in range(niter):\n",
    "#         list_grad = [0,0]\n",
    "#         for i in range(len(x)):\n",
    "#             list_grad += gradient(x[i],y[i],alpha, beta)\n",
    "#         list_grad = list_grad / len(x)\n",
    "#         grad = np.array(list_grad)\n",
    "#         new_param = param0 - lambda_ * grad\n",
    "#         param0 = new_param\n",
    "#         alpha = param0[0]\n",
    "#         beta = param0[1]\n",
    "    \n",
    "#     return np.array([alpha, beta])\n",
    "\n",
    "# thetas = np.ones(3)\n",
    "# descent(thetas, X, y)"
   ]
  },
  {
   "cell_type": "code",
   "execution_count": null,
   "metadata": {
    "deletable": false,
    "editable": false,
    "nbgrader": {
     "checksum": "d6f72a500a0256a87cd01d1872f7d894",
     "grade": true,
     "grade_id": "cell-8ea87b330d08487b",
     "locked": true,
     "points": 1,
     "schema_version": 1,
     "solution": false
    }
   },
   "outputs": [],
   "source": []
  },
  {
   "cell_type": "markdown",
   "metadata": {
    "deletable": false,
    "editable": false,
    "nbgrader": {
     "checksum": "dab74635cacc42ba909c4579d7be9f5c",
     "grade": false,
     "grade_id": "cell-2c670571eef2731d",
     "locked": true,
     "schema_version": 1,
     "solution": false
    }
   },
   "source": [
    "C) Agora vamos tentar avaliar o modelo de regressão linear obtido com o gradiente descendente.\n",
    "\n",
    "Primeiro implementem uma função que calcule o valor da soma total dos quadrados (SST) a partir dos dados."
   ]
  },
  {
   "cell_type": "code",
   "execution_count": 7,
   "metadata": {
    "deletable": false,
    "nbgrader": {
     "checksum": "383cfe4cd0a190374ef7559704d3de01",
     "grade": false,
     "grade_id": "cell-e5e4ab76dcb484e6",
     "locked": false,
     "schema_version": 1,
     "solution": true
    }
   },
   "outputs": [],
   "source": [
    "def sst(y):\n",
    "    y_mean = np.mean(y)\n",
    "    return sum((y - y_mean)*(y - y_mean))"
   ]
  },
  {
   "cell_type": "code",
   "execution_count": null,
   "metadata": {
    "deletable": false,
    "editable": false,
    "nbgrader": {
     "checksum": "c289c645380f5715645e9b3bf75ce12c",
     "grade": true,
     "grade_id": "cell-72579fd65bcd71b9",
     "locked": true,
     "points": 1,
     "schema_version": 1,
     "solution": false
    }
   },
   "outputs": [],
   "source": []
  },
  {
   "cell_type": "markdown",
   "metadata": {
    "deletable": false,
    "editable": false,
    "nbgrader": {
     "checksum": "b176e60fa02b6cba550a2b688911fb8f",
     "grade": false,
     "grade_id": "cell-1468da9a099ec389",
     "locked": true,
     "schema_version": 1,
     "solution": false
    }
   },
   "source": [
    "D) Para calcular a soma total de erros (SSE), primeiro precisamos ter uma previsão para os valores de\n",
    " preço dos apartamentos.\n",
    "Implementem uma função que obtenha os valores estimativa de preço a partir dos demais atributos, de acordo com o modelo de regressão linear.\n",
    "\n",
    "A função deve retornar uma lista com os valores previstos."
   ]
  },
  {
   "cell_type": "code",
   "execution_count": 8,
   "metadata": {
    "deletable": false,
    "nbgrader": {
     "checksum": "f71dc1c12a023d143979ab644739cf24",
     "grade": false,
     "grade_id": "cell-123934f60a5455e2",
     "locked": false,
     "schema_version": 1,
     "solution": true
    }
   },
   "outputs": [],
   "source": [
    "def predict(X, theta):\n",
    "    y_predict = 0.0\n",
    "    for i in range(1, X.shape[1]):\n",
    "        y_predict += theta[i] * X[:, i]\n",
    "    y_predict += theta[0]\n",
    "    \n",
    "    return y_predict"
   ]
  },
  {
   "cell_type": "code",
   "execution_count": null,
   "metadata": {
    "deletable": false,
    "editable": false,
    "nbgrader": {
     "checksum": "1a52237925bfba06f3d2d2922516d8d9",
     "grade": true,
     "grade_id": "cell-14e79d34159ce828",
     "locked": true,
     "points": 1,
     "schema_version": 1,
     "solution": false
    }
   },
   "outputs": [],
   "source": []
  },
  {
   "cell_type": "markdown",
   "metadata": {
    "deletable": false,
    "editable": false,
    "nbgrader": {
     "checksum": "e8386da5421c6dd68ae2bf72c8f2ceb7",
     "grade": false,
     "grade_id": "cell-691e97de261d04f4",
     "locked": true,
     "schema_version": 1,
     "solution": false
    }
   },
   "source": [
    "E) Agora implemente a função de cálculo da soma total de erros (SSE)."
   ]
  },
  {
   "cell_type": "code",
   "execution_count": 9,
   "metadata": {
    "deletable": false,
    "nbgrader": {
     "checksum": "9657de97a8924cc63e5e3d12f504eb4a",
     "grade": false,
     "grade_id": "cell-3131b5aa42ec01c2",
     "locked": false,
     "schema_version": 1,
     "solution": true
    }
   },
   "outputs": [],
   "source": [
    "def sse(X, y, theta):\n",
    "    y_predictions = predict(X, theta)\n",
    "    return sum((y - y_predictions)*(y - y_predictions))"
   ]
  },
  {
   "cell_type": "code",
   "execution_count": null,
   "metadata": {
    "deletable": false,
    "editable": false,
    "nbgrader": {
     "checksum": "d6b4838d036b42e4471baaff8a5973de",
     "grade": true,
     "grade_id": "cell-d981f5eb43e1a4cf",
     "locked": true,
     "points": 1,
     "schema_version": 1,
     "solution": false
    }
   },
   "outputs": [],
   "source": []
  },
  {
   "cell_type": "markdown",
   "metadata": {
    "deletable": false,
    "editable": false,
    "nbgrader": {
     "checksum": "223c5be86bce60f53f3c28d64753d4e1",
     "grade": false,
     "grade_id": "cell-90d9b12c298b3d1f",
     "locked": true,
     "schema_version": 1,
     "solution": false
    }
   },
   "source": [
    "F) Finalmente, implemente a função que calcula o coeficiente de determinação (R2)."
   ]
  },
  {
   "cell_type": "code",
   "execution_count": 10,
   "metadata": {
    "deletable": false,
    "nbgrader": {
     "checksum": "8121b605ca3efd7e095afed0000a59ca",
     "grade": false,
     "grade_id": "cell-4ea36a030072399c",
     "locked": false,
     "schema_version": 1,
     "solution": true
    }
   },
   "outputs": [],
   "source": [
    "def r2(X, y, theta):\n",
    "    sst_val = sst(y)\n",
    "    sse_val = sse(X, y, theta)\n",
    "    \n",
    "    return 1 - (sse_val/sst_val)"
   ]
  },
  {
   "cell_type": "code",
   "execution_count": null,
   "metadata": {
    "deletable": false,
    "editable": false,
    "nbgrader": {
     "checksum": "c779ec3eaab6e4e97f58fd7128a498a2",
     "grade": true,
     "grade_id": "cell-2e6ae38f9694d078",
     "locked": true,
     "points": 1,
     "schema_version": 1,
     "solution": false
    }
   },
   "outputs": [],
   "source": []
  },
  {
   "cell_type": "markdown",
   "metadata": {
    "deletable": false,
    "editable": false,
    "nbgrader": {
     "checksum": "7fd563a059d836376d93494b722e1820",
     "grade": false,
     "grade_id": "cell-d32ebf6ea2195a1d",
     "locked": true,
     "schema_version": 1,
     "solution": false
    }
   },
   "source": [
    "G) Se observarmos os dados pelos gráficos gerados no começo do notebook, podemos perceber que nem todos possuem uma relação linear. Vamos tentar transformar os dados de um dos atributos dos carros, para que uma regressão linear possa ser aplicada com melhores resultados.\n",
    "\n",
    "Tire o logaritmo dos dados do atributo ```mpg```, antes de z-normalizar."
   ]
  },
  {
   "cell_type": "code",
   "execution_count": 11,
   "metadata": {
    "deletable": false,
    "nbgrader": {
     "checksum": "89ef1acfadabc404d8cc3a68343188eb",
     "grade": false,
     "grade_id": "cell-b43c12240c8b5f74",
     "locked": false,
     "schema_version": 1,
     "solution": true
    }
   },
   "outputs": [
    {
     "ename": "NotImplementedError",
     "evalue": "",
     "output_type": "error",
     "traceback": [
      "\u001b[0;31m---------------------------------------------------------------------------\u001b[0m",
      "\u001b[0;31mNotImplementedError\u001b[0m                       Traceback (most recent call last)",
      "\u001b[0;32m<ipython-input-11-d091ae17a61e>\u001b[0m in \u001b[0;36m<module>\u001b[0;34m\u001b[0m\n\u001b[1;32m      3\u001b[0m \u001b[0;34m\u001b[0m\u001b[0m\n\u001b[1;32m      4\u001b[0m \u001b[0;31m# YOUR CODE HERE\u001b[0m\u001b[0;34m\u001b[0m\u001b[0;34m\u001b[0m\u001b[0;34m\u001b[0m\u001b[0m\n\u001b[0;32m----> 5\u001b[0;31m \u001b[0;32mraise\u001b[0m \u001b[0mNotImplementedError\u001b[0m\u001b[0;34m(\u001b[0m\u001b[0;34m)\u001b[0m\u001b[0;34m\u001b[0m\u001b[0;34m\u001b[0m\u001b[0m\n\u001b[0m\u001b[1;32m      6\u001b[0m \u001b[0;34m\u001b[0m\u001b[0m\n\u001b[1;32m      7\u001b[0m \u001b[0mX\u001b[0m \u001b[0;34m-=\u001b[0m \u001b[0mX\u001b[0m\u001b[0;34m.\u001b[0m\u001b[0mmean\u001b[0m\u001b[0;34m(\u001b[0m\u001b[0;34m)\u001b[0m\u001b[0;34m\u001b[0m\u001b[0;34m\u001b[0m\u001b[0m\n",
      "\u001b[0;31mNotImplementedError\u001b[0m: "
     ]
    }
   ],
   "source": [
    "y = df['msrp']\n",
    "X = df[['year','acceleration','mpg']]\n",
    "\n",
    "X['mpg'] = np.log(X['mpg']) \n",
    "\n",
    "X -= X.mean()\n",
    "X /= X.std(ddof=1)\n",
    "y -= y.mean()\n",
    "y /= y.std(ddof=1)\n",
    "\n",
    "X.insert(0, 'intercept', 1.0)\n",
    "\n",
    "X = X.values\n",
    "y = y.values"
   ]
  },
  {
   "cell_type": "code",
   "execution_count": null,
   "metadata": {
    "deletable": false,
    "editable": false,
    "nbgrader": {
     "checksum": "742809e93fec0db641fa5d63613d2fcc",
     "grade": true,
     "grade_id": "cell-f60cd52bd53ff98b",
     "locked": true,
     "points": 1,
     "schema_version": 1,
     "solution": false
    }
   },
   "outputs": [],
   "source": []
  },
  {
   "cell_type": "markdown",
   "metadata": {
    "deletable": false,
    "editable": false,
    "nbgrader": {
     "checksum": "c161e322020ea552d8db9d88abafb091",
     "grade": false,
     "grade_id": "cell-1bd1ffbd5ffddb14",
     "locked": true,
     "schema_version": 1,
     "solution": false
    }
   },
   "source": [
    "Note que o código do gradiente descendente pode ser executado sem alterações.\n",
    "\n",
    "Verifique se o R2 da regressão melhorou ou piorou ao se transformar os dados."
   ]
  }
 ],
 "metadata": {
  "kernelspec": {
   "display_name": "Python 3",
   "language": "python",
   "name": "python3"
  },
  "language_info": {
   "codemirror_mode": {
    "name": "ipython",
    "version": 3
   },
   "file_extension": ".py",
   "mimetype": "text/x-python",
   "name": "python",
   "nbconvert_exporter": "python",
   "pygments_lexer": "ipython3",
   "version": "3.6.7"
  }
 },
 "nbformat": 4,
 "nbformat_minor": 2
}
